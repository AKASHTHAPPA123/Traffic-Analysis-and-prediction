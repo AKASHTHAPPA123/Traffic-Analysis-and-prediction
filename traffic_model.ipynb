{
  "cells": [
    {
      "cell_type": "code",
      "execution_count": 1,
      "metadata": {
        "colab": {
          "base_uri": "https://localhost:8080/",
          "height": 38
        },
        "id": "NcxMFyI6233P",
        "outputId": "e95cf310-31f8-4eb8-a9bc-72fd7f4b5d3c"
      },
      "outputs": [
        {
          "ename": "ModuleNotFoundError",
          "evalue": "No module named 'sklearn'",
          "output_type": "error",
          "traceback": [
            "\u001b[1;31m---------------------------------------------------------------------------\u001b[0m",
            "\u001b[1;31mModuleNotFoundError\u001b[0m                       Traceback (most recent call last)",
            "Cell \u001b[1;32mIn[1], line 4\u001b[0m\n\u001b[0;32m      2\u001b[0m \u001b[38;5;28;01mimport\u001b[39;00m \u001b[38;5;21;01mmatplotlib\u001b[39;00m\u001b[38;5;21;01m.\u001b[39;00m\u001b[38;5;21;01mpyplot\u001b[39;00m \u001b[38;5;28;01mas\u001b[39;00m \u001b[38;5;21;01mplt\u001b[39;00m\n\u001b[0;32m      3\u001b[0m \u001b[38;5;28;01mimport\u001b[39;00m \u001b[38;5;21;01mseaborn\u001b[39;00m \u001b[38;5;28;01mas\u001b[39;00m \u001b[38;5;21;01msns\u001b[39;00m\n\u001b[1;32m----> 4\u001b[0m \u001b[38;5;28;01mfrom\u001b[39;00m \u001b[38;5;21;01msklearn\u001b[39;00m\u001b[38;5;21;01m.\u001b[39;00m\u001b[38;5;21;01mmodel_selection\u001b[39;00m \u001b[38;5;28;01mimport\u001b[39;00m train_test_split\n\u001b[0;32m      5\u001b[0m \u001b[38;5;28;01mfrom\u001b[39;00m \u001b[38;5;21;01msklearn\u001b[39;00m\u001b[38;5;21;01m.\u001b[39;00m\u001b[38;5;21;01mensemble\u001b[39;00m \u001b[38;5;28;01mimport\u001b[39;00m RandomForestRegressor\n\u001b[0;32m      6\u001b[0m \u001b[38;5;28;01mfrom\u001b[39;00m \u001b[38;5;21;01msklearn\u001b[39;00m\u001b[38;5;21;01m.\u001b[39;00m\u001b[38;5;21;01mmetrics\u001b[39;00m \u001b[38;5;28;01mimport\u001b[39;00m mean_absolute_error, r2_score\n",
            "\u001b[1;31mModuleNotFoundError\u001b[0m: No module named 'sklearn'"
          ]
        }
      ],
      "source": [
        "import pandas as pd\n",
        "import matplotlib.pyplot as plt\n",
        "import seaborn as sns\n",
        "from sklearn.model_selection import train_test_split\n",
        "from sklearn.ensemble import RandomForestRegressor\n",
        "from sklearn.metrics import mean_absolute_error, r2_score\n",
        "import numpy as np\n",
        "import pickle\n",
        "\n",
        "file_path = 'C:\\\\Users\\\\Akash\\\\Desktop\\\\Traffic Analysis and prediction\\\\traffic.csv'\n",
        "\n",
        "df = pd.read_csv(file_path)\n",
        "print(df)"
      ]
    },
    {
      "cell_type": "code",
      "execution_count": null,
      "metadata": {
        "id": "MOjojjGV4svB"
      },
      "outputs": [],
      "source": [
        "print(df.info())\n",
        "print(df.describe())"
      ]
    },
    {
      "cell_type": "code",
      "execution_count": null,
      "metadata": {
        "id": "kX1Xy5ci4yL8"
      },
      "outputs": [],
      "source": [
        "df = df.dropna()"
      ]
    },
    {
      "cell_type": "code",
      "execution_count": null,
      "metadata": {
        "id": "iQjFDTSQ5ZjR"
      },
      "outputs": [],
      "source": [
        "df['DateTime'] = pd.to_datetime(df['DateTime'])"
      ]
    },
    {
      "cell_type": "code",
      "execution_count": null,
      "metadata": {
        "id": "TFJ25lUb5ZlT"
      },
      "outputs": [],
      "source": [
        "df['hour'] = df['DateTime'].dt.hour\n",
        "df['day_of_week'] = df['DateTime'].dt.dayofweek\n",
        "df['month'] = df['DateTime'].dt.month\n",
        "df['year'] = df['DateTime'].dt.year\n",
        "\n"
      ]
    },
    {
      "cell_type": "code",
      "execution_count": null,
      "metadata": {
        "id": "GxAeNsPx5Zm1"
      },
      "outputs": [],
      "source": [
        "print(df.info())\n",
        "print(df.describe())"
      ]
    },
    {
      "cell_type": "code",
      "execution_count": null,
      "metadata": {
        "id": "MJ-xFgKnRbn8"
      },
      "outputs": [],
      "source": [
        "# df_top20 = df.head(20)\n",
        "# print(df_top20)\n",
        "\n",
        "for column in df.columns:\n",
        "    unique_values = df[column].unique()\n",
        "    print(f\"Unique values in column '{column}': {unique_values}\")"
      ]
    },
    {
      "cell_type": "code",
      "execution_count": null,
      "metadata": {
        "id": "rtAujmVZJ97l"
      },
      "outputs": [],
      "source": [
        "import matplotlib.pyplot as plt\n",
        "import seaborn as sns\n",
        "\n",
        "plt.figure(figsize=(12, 6))\n",
        "sns.lineplot(data=df, x='hour', y='Vehicles', hue='Junction',palette=['red', 'blue', 'green', 'yellow'])\n",
        "plt.title('Traffic Volume by Hour')\n",
        "plt.xlabel('Hour of the Day')\n",
        "plt.ylabel('Number of Vehicles')\n",
        "plt.legend(title='Junction')\n",
        "plt.xticks(ticks=range(0, 24))\n",
        "plt.show()\n",
        "\n"
      ]
    },
    {
      "cell_type": "code",
      "execution_count": null,
      "metadata": {
        "id": "TPtsufEg5Zux"
      },
      "outputs": [],
      "source": [
        "plt.figure(figsize=(12, 6))\n",
        "sns.lineplot(data=df, x='day_of_week', y='Vehicles', hue='Junction', palette=['red', 'blue', 'green', 'yellow'])\n",
        "plt.title('Traffic Volume by Day of the Week')\n",
        "plt.xlabel('Day of the Week')\n",
        "plt.ylabel('Number of Vehicles')\n",
        "plt.legend(title='Junction')\n",
        "plt.xticks(ticks=range(0, 7), labels=['Monday', 'Tuesday', 'Wednesday', 'Thursday', 'Friday', 'Saturday','Sunday'])\n",
        "plt.show()\n"
      ]
    },
    {
      "cell_type": "code",
      "execution_count": null,
      "metadata": {
        "id": "w22v44ee5Zwh"
      },
      "outputs": [],
      "source": [
        "plt.figure(figsize=(12, 6))\n",
        "sns.lineplot(data=df, x='month', y='Vehicles', hue='Junction', palette=['red', 'blue', 'green', 'yellow'])\n",
        "plt.title('Traffic Volume by Year')\n",
        "plt.xlabel('Month of the Year')\n",
        "plt.ylabel('Number of Occurrences')\n",
        "plt.legend(title='Junction')\n",
        "plt.xticks(ticks= df['month'].unique() )\n",
        "plt.show()"
      ]
    },
    {
      "cell_type": "code",
      "execution_count": null,
      "metadata": {
        "id": "3XKG7ian5ZyJ"
      },
      "outputs": [],
      "source": [
        "plt.figure(figsize=(12, 6))\n",
        "sns.lineplot(data=df, x='year', y='Vehicles', hue='Junction', palette=['red', 'blue', 'green', 'yellow'])\n",
        "plt.title('Traffic Volume by Year')\n",
        "plt.xlabel('Years')\n",
        "plt.ylabel('Number of Occurrences')\n",
        "plt.legend(title='Junction')\n",
        "plt.xticks(ticks= df['year'].unique() )\n",
        "plt.show()"
      ]
    },
    {
      "cell_type": "code",
      "execution_count": null,
      "metadata": {
        "id": "pOw3mDHi5Z1j"
      },
      "outputs": [],
      "source": [
        "from sklearn.model_selection import train_test_split\n",
        "\n",
        "features = df[['hour', 'day_of_week', 'month', 'year', 'Junction']]\n",
        "target = df['Vehicles']\n",
        "\n",
        "features = pd.get_dummies(features, columns=['Junction'], drop_first=True)\n",
        "\n",
        "X_train, X_test, y_train, y_test = train_test_split(features, target, test_size=0.2, random_state=42)\n"
      ]
    },
    {
      "cell_type": "code",
      "execution_count": null,
      "metadata": {
        "id": "ro1hHdMJ5Z4_"
      },
      "outputs": [],
      "source": [
        "from sklearn.ensemble import RandomForestRegressor\n",
        "from sklearn.metrics import mean_absolute_error\n",
        "\n",
        "model = RandomForestRegressor(n_estimators=100, random_state=42)\n",
        "model.fit(X_train, y_train)\n",
        "\n",
        "predictions = model.predict(X_test)\n",
        "print('Mean Absolute Error:', mean_absolute_error(y_test, predictions))\n"
      ]
    },
    {
      "cell_type": "code",
      "execution_count": null,
      "metadata": {
        "id": "DKdQWl1EjCWs"
      },
      "outputs": [],
      "source": [
        "plt.figure(figsize=(12, 6))\n",
        "plt.plot(y_test.values[:100], label='Actual')\n",
        "plt.plot(predictions[:100], label='Predicted')\n",
        "plt.title('Actual vs Predicted Traffic Volume')\n",
        "plt.xlabel('Sample')\n",
        "plt.ylabel('Number of Vehicles')\n",
        "plt.legend()\n",
        "plt.show()\n"
      ]
    },
    {
      "cell_type": "code",
      "execution_count": null,
      "metadata": {
        "id": "0C7WVZdljCYg"
      },
      "outputs": [],
      "source": [
        "def categorize_traffic(volume):\n",
        "    if volume < 20:\n",
        "        return \"No traffic\"\n",
        "    elif volume < 50:\n",
        "        return \"Less traffic\"\n",
        "    elif volume < 100:\n",
        "        return \"Heavy traffic\"\n",
        "    else:\n",
        "        return \"Worst case\""
      ]
    },
    {
      "cell_type": "code",
      "execution_count": null,
      "metadata": {
        "id": "qkJySqtAjCap"
      },
      "outputs": [],
      "source": [
        "def predict_traffic(date_str, time_str, junction, model, feature_columns):\n",
        "    # Combine date and time into a single datetime object\n",
        "    date_time_str = f\"{date_str} {time_str}\"\n",
        "    date_time = pd.to_datetime(date_time_str)\n",
        "\n",
        "    # Extract features from the datetime object\n",
        "    hour = date_time.hour\n",
        "    day_of_week = date_time.dayofweek\n",
        "    month = date_time.month\n",
        "    year = date_time.year\n",
        "\n",
        "    # Prepare the input data for the model\n",
        "    input_data = pd.DataFrame({\n",
        "        'hour': [hour],\n",
        "        'day_of_week': [day_of_week],\n",
        "        'month': [month],\n",
        "        'year': [year]\n",
        "    })\n",
        "\n",
        "    # One-hot encode the junction feature\n",
        "    junction_dummies = pd.get_dummies([junction], prefix='Junction')\n",
        "\n",
        "    # Ensure that the dummy variables match the training columns\n",
        "    for col in feature_columns:\n",
        "        if col.startswith('Junction') and col not in junction_dummies.columns:\n",
        "            junction_dummies[col] = 0\n",
        "\n",
        "    # Combine the features\n",
        "    input_data = pd.concat([input_data, junction_dummies], axis=1)\n",
        "\n",
        "    # Ensure the input data has the same columns as the training data\n",
        "    for col in feature_columns:\n",
        "        if col not in input_data.columns:\n",
        "            input_data[col] = 0\n",
        "\n",
        "    # Arrange the columns in the same order as during training\n",
        "    input_data = input_data[feature_columns]\n",
        "\n",
        "    # Predict traffic volume\n",
        "    predicted_volume = model.predict(input_data)[0]\n",
        "\n",
        "    # Categorize traffic\n",
        "    traffic_category = categorize_traffic(predicted_volume)\n",
        "\n",
        "    return traffic_category\n"
      ]
    },
    {
      "cell_type": "code",
      "execution_count": null,
      "metadata": {
        "id": "bi4YUDaajCeT"
      },
      "outputs": [],
      "source": [
        "feature_columns = X_train.columns"
      ]
    },
    {
      "cell_type": "code",
      "execution_count": null,
      "metadata": {
        "id": "r06Qm5BRjCcd"
      },
      "outputs": [],
      "source": [
        "# Example usage\n",
        "date_str = input(\"Enter date (YYYY-MM-DD): \")  # Separate date input\n",
        "time_str = input(\"Enter time (HH:MM:SS): \")   # Separate time input\n",
        "junction = int(input(\"Enter junction (integer): \"))  # Junction as an integer\n",
        "\n",
        "# Predict traffic\n",
        "traffic_category = predict_traffic(date_str, time_str, junction, model, feature_columns)\n",
        "print(f'Traffic prediction for {date_str} {time_str} at junction {junction}: {traffic_category}')\n"
      ]
    },
    {
      "cell_type": "code",
      "execution_count": null,
      "metadata": {
        "id": "6mjJ2_DNjCho"
      },
      "outputs": [],
      "source": [
        "average_traffic = df.groupby('Junction')['Vehicles'].mean().reset_index()\n",
        "\n",
        "plt.figure(figsize=(12, 6))\n",
        "sns.lineplot(data=df, x='Junction', y='average_traffic')\n",
        "plt.title('Traffic Volume by Year')\n",
        "plt.xlabel('Years')\n",
        "plt.ylabel('Number of Occurrences')\n",
        "plt.legend(title='Junction')\n",
        "plt.xticks(ticks= df['year'].unique() )\n",
        "plt.show()"
      ]
    }
  ],
  "metadata": {
    "colab": {
      "provenance": []
    },
    "kernelspec": {
      "display_name": "Python 3",
      "name": "python3"
    },
    "language_info": {
      "codemirror_mode": {
        "name": "ipython",
        "version": 3
      },
      "file_extension": ".py",
      "mimetype": "text/x-python",
      "name": "python",
      "nbconvert_exporter": "python",
      "pygments_lexer": "ipython3",
      "version": "3.11.4"
    }
  },
  "nbformat": 4,
  "nbformat_minor": 0
}
